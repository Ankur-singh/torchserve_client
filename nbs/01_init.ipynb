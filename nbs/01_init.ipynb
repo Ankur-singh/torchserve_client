{
 "cells": [
  {
   "cell_type": "code",
   "execution_count": null,
   "metadata": {},
   "outputs": [],
   "source": [
    "#| default_exp __init__"
   ]
  },
  {
   "cell_type": "code",
   "execution_count": null,
   "metadata": {},
   "outputs": [],
   "source": [
    "#| hide\n",
    "from nbdev.showdoc import *"
   ]
  },
  {
   "cell_type": "code",
   "execution_count": null,
   "metadata": {},
   "outputs": [],
   "source": [
    "#| export\n",
    "from torchserve_client.base import ManagementClient, InferenceClient"
   ]
  },
  {
   "cell_type": "code",
   "execution_count": null,
   "metadata": {},
   "outputs": [],
   "source": [
    "#| export\n",
    "class TorchServeClient:\n",
    "    def __init__(self, base_url=None, management_port=8081, inference_port=8080):\n",
    "        self.management = ManagementClient(base_url, management_port)\n",
    "        self.inference = InferenceClient(base_url, inference_port)\n",
    "\n",
    "    def __repr__(self):\n",
    "        url = self.management.base_url.rsplit(':', 1)[0]\n",
    "        return f\"TorchServeClient(base_url={url}, management_port={self.management.port}, inference_port={self.inference.port})\"\n"
   ]
  },
  {
   "cell_type": "code",
   "execution_count": null,
   "metadata": {},
   "outputs": [],
   "source": [
    "#| hide\n",
    "import nbdev; nbdev.nbdev_export()"
   ]
  }
 ],
 "metadata": {
  "kernelspec": {
   "display_name": "python3",
   "language": "python",
   "name": "python3"
  }
 },
 "nbformat": 4,
 "nbformat_minor": 2
}
